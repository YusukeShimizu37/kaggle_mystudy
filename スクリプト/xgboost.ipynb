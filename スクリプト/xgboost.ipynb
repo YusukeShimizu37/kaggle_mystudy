{
 "cells": [
  {
   "cell_type": "markdown",
   "metadata": {},
   "source": [
    "### xgboostの実装"
   ]
  },
  {
   "cell_type": "code",
   "execution_count": 17,
   "metadata": {},
   "outputs": [],
   "source": [
    "import sys \n",
    "\n",
    "sys.path.append('../xgboost_deploy/ch04-model-interface/code')"
   ]
  },
  {
   "cell_type": "code",
   "execution_count": 18,
   "metadata": {},
   "outputs": [],
   "source": [
    "import os\n",
    "\n",
    "import numpy as np\n",
    "import pandas as pd\n",
    "import xgboost as xgb\n",
    "\n",
    "from model import Model\n",
    "from util import Util"
   ]
  },
  {
   "cell_type": "markdown",
   "metadata": {},
   "source": [
    "### py形式のモデルをノートブック形式に変換"
   ]
  },
  {
   "cell_type": "code",
   "execution_count": null,
   "metadata": {},
   "outputs": [],
   "source": [
    "# データの読み込み\n"
   ]
  },
  {
   "cell_type": "code",
   "execution_count": null,
   "metadata": {},
   "outputs": [],
   "source": [
    "\n",
    "\n",
    "\n",
    "class ModelXGB(Model):\n",
    "\n",
    "    def train(self, tr_x, tr_y, va_x=None, va_y=None):\n",
    "\n",
    "        # データのセット\n",
    "        validation = va_x is not None\n",
    "        dtrain = xgb.DMatrix(tr_x, label=tr_y)\n",
    "        if validation:\n",
    "            dvalid = xgb.DMatrix(va_x, label=va_y)\n",
    "\n",
    "        # ハイパーパラメータの設定\n",
    "        params = dict(self.params)\n",
    "        num_round = params.pop('num_round')\n",
    "\n",
    "        # 学習\n",
    "        if validation:\n",
    "            early_stopping_rounds = params.pop('early_stopping_rounds')\n",
    "            watchlist = [(dtrain, 'train'), (dvalid, 'eval')]\n",
    "            self.model = xgb.train(params, dtrain, num_round, evals=watchlist,\n",
    "                                   early_stopping_rounds=early_stopping_rounds)\n",
    "        else:\n",
    "            watchlist = [(dtrain, 'train')]\n",
    "            self.model = xgb.train(params, dtrain, num_round, evals=watchlist)\n",
    "\n",
    "    def predict(self, te_x):\n",
    "        dtest = xgb.DMatrix(te_x)\n",
    "        return self.model.predict(dtest, ntree_limit=self.model.best_ntree_limit)\n",
    "\n",
    "    def save_model(self):\n",
    "        model_path = os.path.join('../model/model', f'{self.run_fold_name}.model')\n",
    "        os.makedirs(os.path.dirname(model_path), exist_ok=True)\n",
    "        # best_ntree_limitが消えるのを防ぐため、pickleで保存することとした\n",
    "        Util.dump(self.model, model_path)\n",
    "\n",
    "    def load_model(self):\n",
    "        model_path = os.path.join('../model/model', f'{self.run_fold_name}.model')\n",
    "        self.model = Util.load(model_path)\n"
   ]
  }
 ],
 "metadata": {
  "kernelspec": {
   "display_name": "Python 3",
   "language": "python",
   "name": "python3"
  },
  "language_info": {
   "codemirror_mode": {
    "name": "ipython",
    "version": 3
   },
   "file_extension": ".py",
   "mimetype": "text/x-python",
   "name": "python",
   "nbconvert_exporter": "python",
   "pygments_lexer": "ipython3",
   "version": "3.12.0"
  }
 },
 "nbformat": 4,
 "nbformat_minor": 2
}
